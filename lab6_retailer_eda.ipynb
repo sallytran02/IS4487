{
  "cells": [
    {
      "cell_type": "markdown",
      "metadata": {
        "id": "view-in-github",
        "colab_type": "text"
      },
      "source": [
        "<a href=\"https://colab.research.google.com/github/sallytran02/IS4487/blob/main/lab6_retailer_eda.ipynb\" target=\"_parent\"><img src=\"https://colab.research.google.com/assets/colab-badge.svg\" alt=\"Open In Colab\"/></a>"
      ]
    },
    {
      "cell_type": "markdown",
      "metadata": {
        "id": "_Z75rNpEv6QZ"
      },
      "source": [
        "# IS 4487 Lab 6\n",
        "\n",
        "## Outline\n",
        "\n",
        "Repeat exercises from Lab 5, but with the *SuperStore Retail Orders* dataset.  Your target variable is total sales revenue.  \n",
        "\n",
        "\n",
        "<a href=\"https://colab.research.google.com/github/Stan-Pugsley/is_4487_base/blob/main/Labs/Scripts/lab6_retailer_eda.ipynb\" target=\"_parent\"><img src=\"https://colab.research.google.com/assets/colab-badge.svg\" alt=\"Open In Colab\"/></a>"
      ]
    },
    {
      "cell_type": "markdown",
      "metadata": {
        "id": "Tadm75vtv6Qg"
      },
      "source": [
        "## Load Libraries\n",
        "\n",
        "➡️ Assignment Tasks\n",
        "- Load any necessary libraries"
      ]
    },
    {
      "cell_type": "code",
      "execution_count": null,
      "metadata": {
        "vscode": {
          "languageId": "plaintext"
        },
        "id": "Xj3ne4Wnv6Qh"
      },
      "outputs": [],
      "source": [
        "import pandas as pd\n",
        "import matplotlib as mpl\n",
        "import sklearn as sl"
      ]
    },
    {
      "cell_type": "markdown",
      "metadata": {
        "id": "eoTuzYQov6Qi"
      },
      "source": [
        "## Import Data into Dataframe\n",
        "\n",
        "➡️ Assignment Tasks\n",
        "- Import data from the SuperStore retail dataset into a dataframe (in GitHub go to Labs > DataSets)\n",
        "- Describe or profile the dataframe.  \n",
        "- If your record count doesn't match the source file, then resolve the issue"
      ]
    },
    {
      "cell_type": "code",
      "execution_count": null,
      "metadata": {
        "vscode": {
          "languageId": "plaintext"
        },
        "id": "AXhY6NUCv6Qj",
        "outputId": "23b5bb37-cf33-49ce-e487-30ea47001a6e",
        "colab": {
          "base_uri": "https://localhost:8080/"
        }
      },
      "outputs": [
        {
          "output_type": "stream",
          "name": "stdout",
          "text": [
            "Mounted at /content/gdrive\n"
          ]
        }
      ],
      "source": [
        "from google.colab import drive\n",
        "drive.mount('/content/gdrive', force_remount=True)\n",
        "\n",
        "df = pd.read_csv (r'/content/superstore_retail_orders-2.csv')"
      ]
    },
    {
      "cell_type": "code",
      "source": [
        "df['total_amount'] = df['quantity'] * df['product_price']\n",
        "\n",
        "print(df)"
      ],
      "metadata": {
        "id": "5trx06NU6F25",
        "outputId": "904af9fb-1ec2-4064-8625-9844d1cd6e0d",
        "colab": {
          "base_uri": "https://localhost:8080/"
        }
      },
      "execution_count": null,
      "outputs": [
        {
          "output_type": "stream",
          "name": "stdout",
          "text": [
            "       order_id  order_date order_year_month     customer_name  \\\n",
            "0         51188  2021-07-01          2021-07     Audrey Blanco   \n",
            "1         51187  2021-07-01          2021-07       Isaac Allen   \n",
            "2         51199  2021-07-02          2021-07        Ian Morgan   \n",
            "3         51241  2021-07-04          2021-07        Alexa Bell   \n",
            "4         51297  2021-07-08          2021-07        Casey Diaz   \n",
            "...         ...         ...              ...               ...   \n",
            "56040     74084  2022-06-29          2022-06        Ian Rogers   \n",
            "56041     74062  2022-06-29          2022-06   Marcus Anderson   \n",
            "56042     74065  2022-06-29          2022-06  Nathaniel Howard   \n",
            "56043     74038  2022-06-29          2022-06        Robin Sanz   \n",
            "56044     74110  2022-06-30          2022-06   Mallory Jimenez   \n",
            "\n",
            "                    city             state_province  quantity  \\\n",
            "0      North Cherylmouth  NEW HAMPSHIRE                   3.0   \n",
            "1             Traceyland  WEST VIRGINIA                   4.0   \n",
            "2              Dylanberg  SOUTH DAKOTA                    5.0   \n",
            "3         Lake Tracytown  WISCONSIN                       1.0   \n",
            "4            Byrdchester  MISSISSIPPI                     1.0   \n",
            "...                  ...                        ...       ...   \n",
            "56040          Port Mark  ALABAMA                         1.0   \n",
            "56041     West Aprilfurt  NEBRASKA                        1.0   \n",
            "56042      New Lindaview  ILLINOIS                        1.0   \n",
            "56043    West Frankhaven  ARKANSAS                        1.0   \n",
            "56044        Dillonhaven  MARYLAND                        1.0   \n",
            "\n",
            "                                            product_name product_line  \\\n",
            "0      Apple iPhone XR (Yellow, 256 GB) (Includes Ear...       Mobile   \n",
            "1      Apple iPhone XR (Yellow, 256 GB) (Includes Ear...       Mobile   \n",
            "2      Apple iPhone XR (Yellow, 256 GB) (Includes Ear...       Mobile   \n",
            "3      Apple iPhone XR (Yellow, 256 GB) (Includes Ear...       Mobile   \n",
            "4      Apple iPhone XR (Yellow, 256 GB) (Includes Ear...       Mobile   \n",
            "...                                                  ...          ...   \n",
            "56040  Samsung Galaxy S20 FE 5G (Cloud Navy, 8GB RAM,...  Electronics   \n",
            "56041  Samsung Galaxy S20 FE 5G (Cloud Navy, 8GB RAM,...  Electronics   \n",
            "56042  Samsung Galaxy S20 FE 5G (Cloud Navy, 8GB RAM,...  Electronics   \n",
            "56043  Samsung Galaxy S20 FE 5G (Cloud Navy, 8GB RAM,...  Electronics   \n",
            "56044  Samsung Galaxy S20 FE 5G (Cloud Navy, 8GB RAM,...  Electronics   \n",
            "\n",
            "       product_price  total_amount  \n",
            "0             649.99       1949.97  \n",
            "1             649.99       2599.96  \n",
            "2             649.99       3249.95  \n",
            "3             649.99        649.99  \n",
            "4             649.99        649.99  \n",
            "...              ...           ...  \n",
            "56040         914.62        914.62  \n",
            "56041         914.62        914.62  \n",
            "56042         914.62        914.62  \n",
            "56043         914.62        914.62  \n",
            "56044         914.62        914.62  \n",
            "\n",
            "[56045 rows x 11 columns]\n"
          ]
        }
      ]
    },
    {
      "cell_type": "markdown",
      "metadata": {
        "id": "uG7_ERf0v6Qj"
      },
      "source": [
        "## Prepare Data\n",
        "\n",
        "➡️ Assignment Tasks\n",
        "- Convert any numbers into the correct datatype if they are not already numeric\n",
        "- Convert any character variables in to factors if they are appropriate for that datatype\n",
        "- Check for outliers.   Remove any outliers that appear to be mistakes\n",
        "- Remove rows with empty (NULL) values\n",
        "- Create a total_amount variable, based on the product price and quantity"
      ]
    },
    {
      "cell_type": "code",
      "execution_count": null,
      "metadata": {
        "vscode": {
          "languageId": "plaintext"
        },
        "id": "Y0BfNx3Wv6Qj",
        "outputId": "d18afbe3-836d-469f-e907-ec40509e0be3",
        "colab": {
          "base_uri": "https://localhost:8080/"
        }
      },
      "outputs": [
        {
          "output_type": "stream",
          "name": "stdout",
          "text": [
            "       order_id  order_date order_year_month     customer_name  \\\n",
            "0         51188  2021-07-01          2021-07     Audrey Blanco   \n",
            "1         51187  2021-07-01          2021-07       Isaac Allen   \n",
            "2         51199  2021-07-02          2021-07        Ian Morgan   \n",
            "3         51241  2021-07-04          2021-07        Alexa Bell   \n",
            "4         51297  2021-07-08          2021-07        Casey Diaz   \n",
            "...         ...         ...              ...               ...   \n",
            "56040     74084  2022-06-29          2022-06        Ian Rogers   \n",
            "56041     74062  2022-06-29          2022-06   Marcus Anderson   \n",
            "56042     74065  2022-06-29          2022-06  Nathaniel Howard   \n",
            "56043     74038  2022-06-29          2022-06        Robin Sanz   \n",
            "56044     74110  2022-06-30          2022-06   Mallory Jimenez   \n",
            "\n",
            "                    city             state_province  quantity  \\\n",
            "0      North Cherylmouth  NEW HAMPSHIRE                   3.0   \n",
            "1             Traceyland  WEST VIRGINIA                   4.0   \n",
            "2              Dylanberg  SOUTH DAKOTA                    5.0   \n",
            "3         Lake Tracytown  WISCONSIN                       1.0   \n",
            "4            Byrdchester  MISSISSIPPI                     1.0   \n",
            "...                  ...                        ...       ...   \n",
            "56040          Port Mark  ALABAMA                         1.0   \n",
            "56041     West Aprilfurt  NEBRASKA                        1.0   \n",
            "56042      New Lindaview  ILLINOIS                        1.0   \n",
            "56043    West Frankhaven  ARKANSAS                        1.0   \n",
            "56044        Dillonhaven  MARYLAND                        1.0   \n",
            "\n",
            "                                            product_name product_line  \\\n",
            "0      Apple iPhone XR (Yellow, 256 GB) (Includes Ear...       Mobile   \n",
            "1      Apple iPhone XR (Yellow, 256 GB) (Includes Ear...       Mobile   \n",
            "2      Apple iPhone XR (Yellow, 256 GB) (Includes Ear...       Mobile   \n",
            "3      Apple iPhone XR (Yellow, 256 GB) (Includes Ear...       Mobile   \n",
            "4      Apple iPhone XR (Yellow, 256 GB) (Includes Ear...       Mobile   \n",
            "...                                                  ...          ...   \n",
            "56040  Samsung Galaxy S20 FE 5G (Cloud Navy, 8GB RAM,...  Electronics   \n",
            "56041  Samsung Galaxy S20 FE 5G (Cloud Navy, 8GB RAM,...  Electronics   \n",
            "56042  Samsung Galaxy S20 FE 5G (Cloud Navy, 8GB RAM,...  Electronics   \n",
            "56043  Samsung Galaxy S20 FE 5G (Cloud Navy, 8GB RAM,...  Electronics   \n",
            "56044  Samsung Galaxy S20 FE 5G (Cloud Navy, 8GB RAM,...  Electronics   \n",
            "\n",
            "       product_price  total_amount  \n",
            "0             649.99       1949.97  \n",
            "1             649.99       2599.96  \n",
            "2             649.99       3249.95  \n",
            "3             649.99        649.99  \n",
            "4             649.99        649.99  \n",
            "...              ...           ...  \n",
            "56040         914.62        914.62  \n",
            "56041         914.62        914.62  \n",
            "56042         914.62        914.62  \n",
            "56043         914.62        914.62  \n",
            "56044         914.62        914.62  \n",
            "\n",
            "[55500 rows x 11 columns]\n"
          ]
        },
        {
          "output_type": "stream",
          "name": "stderr",
          "text": [
            "<ipython-input-37-90df71c6be74>:9: SettingWithCopyWarning: \n",
            "A value is trying to be set on a copy of a slice from a DataFrame.\n",
            "Try using .loc[row_indexer,col_indexer] = value instead\n",
            "\n",
            "See the caveats in the documentation: https://pandas.pydata.org/pandas-docs/stable/user_guide/indexing.html#returning-a-view-versus-a-copy\n",
            "  df['total_amount'] = pd.to_numeric(df['total_amount'].replace('[\\$,]', '', regex=True))\n"
          ]
        }
      ],
      "source": [
        "#convert the product_price into a number (not a string)\n",
        "\n",
        "df['product_price'] = pd.to_numeric(df['product_price'].replace('[\\$,]', '', regex=True))\n",
        "\n",
        "df = df.dropna()\n",
        "\n",
        "#convert the total_amount into a number (not a string)\n",
        "\n",
        "df['total_amount'] = pd.to_numeric(df['total_amount'].replace('[\\$,]', '', regex=True))\n",
        "\n",
        "df = df.dropna()\n",
        "\n",
        "print (df)"
      ]
    },
    {
      "cell_type": "code",
      "source": [
        "# drop null values\n",
        "\n",
        "import pandas as pd\n",
        "\n",
        "df.dropna(inplace=True)"
      ],
      "metadata": {
        "id": "HF90JcEM3HFo"
      },
      "execution_count": null,
      "outputs": []
    },
    {
      "cell_type": "code",
      "source": [
        "# Identify problematic values\n",
        "print(df['order_year_month'].unique())\n",
        "\n",
        "# Handle invalid values\n",
        "# For example, you can remove rows with out-of-range dates\n",
        "# Or replace them with NaN\n",
        "df['order_year_month'] = pd.to_datetime(df['order_year_month'], errors='coerce')\n",
        "\n",
        "# Print the DataFrame to verify changes\n",
        "print(df)\n"
      ],
      "metadata": {
        "id": "bVf4T8ED84LB",
        "outputId": "0bf9af41-d72e-4aef-84c1-f3011064f761",
        "colab": {
          "base_uri": "https://localhost:8080/"
        }
      },
      "execution_count": null,
      "outputs": [
        {
          "output_type": "stream",
          "name": "stdout",
          "text": [
            "['2021-07' '2021-08' '2021-09' '2021-10' '2021-11' '2021-12' '2022-01'\n",
            " '2022-02' '2022-03' '2022-04' '2022-05' '2022-06' '2029-07' '1922-06'\n",
            " '2421-09' '2029-06' '2029-08' '2020-08' '2020-09' '2020-10' '2020-11'\n",
            " '2020-12' '2021-01' '2021-02' '2021-03' '2021-04' '2021-05' '2021-06'\n",
            " '2020-07' '2020-01' '2020-02' '2020-03' '2020-04' '2020-05' '2020-06']\n",
            "       order_id  order_date order_year_month     customer_name  \\\n",
            "0         51188  2021-07-01       2021-07-01     Audrey Blanco   \n",
            "1         51187  2021-07-01       2021-07-01       Isaac Allen   \n",
            "2         51199  2021-07-02       2021-07-01        Ian Morgan   \n",
            "3         51241  2021-07-04       2021-07-01        Alexa Bell   \n",
            "4         51297  2021-07-08       2021-07-01        Casey Diaz   \n",
            "...         ...         ...              ...               ...   \n",
            "56040     74084  2022-06-29       2022-06-01        Ian Rogers   \n",
            "56041     74062  2022-06-29       2022-06-01   Marcus Anderson   \n",
            "56042     74065  2022-06-29       2022-06-01  Nathaniel Howard   \n",
            "56043     74038  2022-06-29       2022-06-01        Robin Sanz   \n",
            "56044     74110  2022-06-30       2022-06-01   Mallory Jimenez   \n",
            "\n",
            "                    city             state_province  quantity  \\\n",
            "0      North Cherylmouth  NEW HAMPSHIRE                   3.0   \n",
            "1             Traceyland  WEST VIRGINIA                   4.0   \n",
            "2              Dylanberg  SOUTH DAKOTA                    5.0   \n",
            "3         Lake Tracytown  WISCONSIN                       1.0   \n",
            "4            Byrdchester  MISSISSIPPI                     1.0   \n",
            "...                  ...                        ...       ...   \n",
            "56040          Port Mark  ALABAMA                         1.0   \n",
            "56041     West Aprilfurt  NEBRASKA                        1.0   \n",
            "56042      New Lindaview  ILLINOIS                        1.0   \n",
            "56043    West Frankhaven  ARKANSAS                        1.0   \n",
            "56044        Dillonhaven  MARYLAND                        1.0   \n",
            "\n",
            "                                            product_name product_line  \\\n",
            "0      Apple iPhone XR (Yellow, 256 GB) (Includes Ear...       Mobile   \n",
            "1      Apple iPhone XR (Yellow, 256 GB) (Includes Ear...       Mobile   \n",
            "2      Apple iPhone XR (Yellow, 256 GB) (Includes Ear...       Mobile   \n",
            "3      Apple iPhone XR (Yellow, 256 GB) (Includes Ear...       Mobile   \n",
            "4      Apple iPhone XR (Yellow, 256 GB) (Includes Ear...       Mobile   \n",
            "...                                                  ...          ...   \n",
            "56040  Samsung Galaxy S20 FE 5G (Cloud Navy, 8GB RAM,...  Electronics   \n",
            "56041  Samsung Galaxy S20 FE 5G (Cloud Navy, 8GB RAM,...  Electronics   \n",
            "56042  Samsung Galaxy S20 FE 5G (Cloud Navy, 8GB RAM,...  Electronics   \n",
            "56043  Samsung Galaxy S20 FE 5G (Cloud Navy, 8GB RAM,...  Electronics   \n",
            "56044  Samsung Galaxy S20 FE 5G (Cloud Navy, 8GB RAM,...  Electronics   \n",
            "\n",
            "       product_price  total_amount  \n",
            "0             649.99       1949.97  \n",
            "1             649.99       2599.96  \n",
            "2             649.99       3249.95  \n",
            "3             649.99        649.99  \n",
            "4             649.99        649.99  \n",
            "...              ...           ...  \n",
            "56040         914.62        914.62  \n",
            "56041         914.62        914.62  \n",
            "56042         914.62        914.62  \n",
            "56043         914.62        914.62  \n",
            "56044         914.62        914.62  \n",
            "\n",
            "[55500 rows x 11 columns]\n"
          ]
        }
      ]
    },
    {
      "cell_type": "code",
      "source": [
        "# changing order_year_month to datetime format\n",
        "\n",
        "import pandas as pd\n",
        "\n",
        "df = pd.DataFrame(df)\n",
        "\n",
        "df['order_year_month'] = pd.to_datetime(df['order_year_month'])\n",
        "\n",
        "print(df)\n"
      ],
      "metadata": {
        "id": "uH62gnKD3IcZ",
        "outputId": "cc9b62ed-8671-4f13-9848-2e4c07aae865",
        "colab": {
          "base_uri": "https://localhost:8080/"
        }
      },
      "execution_count": null,
      "outputs": [
        {
          "output_type": "stream",
          "name": "stdout",
          "text": [
            "       order_id  order_date order_year_month     customer_name  \\\n",
            "0         51188  2021-07-01       2021-07-01     Audrey Blanco   \n",
            "1         51187  2021-07-01       2021-07-01       Isaac Allen   \n",
            "2         51199  2021-07-02       2021-07-01        Ian Morgan   \n",
            "3         51241  2021-07-04       2021-07-01        Alexa Bell   \n",
            "4         51297  2021-07-08       2021-07-01        Casey Diaz   \n",
            "...         ...         ...              ...               ...   \n",
            "56040     74084  2022-06-29       2022-06-01        Ian Rogers   \n",
            "56041     74062  2022-06-29       2022-06-01   Marcus Anderson   \n",
            "56042     74065  2022-06-29       2022-06-01  Nathaniel Howard   \n",
            "56043     74038  2022-06-29       2022-06-01        Robin Sanz   \n",
            "56044     74110  2022-06-30       2022-06-01   Mallory Jimenez   \n",
            "\n",
            "                    city             state_province  quantity  \\\n",
            "0      North Cherylmouth  NEW HAMPSHIRE                   3.0   \n",
            "1             Traceyland  WEST VIRGINIA                   4.0   \n",
            "2              Dylanberg  SOUTH DAKOTA                    5.0   \n",
            "3         Lake Tracytown  WISCONSIN                       1.0   \n",
            "4            Byrdchester  MISSISSIPPI                     1.0   \n",
            "...                  ...                        ...       ...   \n",
            "56040          Port Mark  ALABAMA                         1.0   \n",
            "56041     West Aprilfurt  NEBRASKA                        1.0   \n",
            "56042      New Lindaview  ILLINOIS                        1.0   \n",
            "56043    West Frankhaven  ARKANSAS                        1.0   \n",
            "56044        Dillonhaven  MARYLAND                        1.0   \n",
            "\n",
            "                                            product_name product_line  \\\n",
            "0      Apple iPhone XR (Yellow, 256 GB) (Includes Ear...       Mobile   \n",
            "1      Apple iPhone XR (Yellow, 256 GB) (Includes Ear...       Mobile   \n",
            "2      Apple iPhone XR (Yellow, 256 GB) (Includes Ear...       Mobile   \n",
            "3      Apple iPhone XR (Yellow, 256 GB) (Includes Ear...       Mobile   \n",
            "4      Apple iPhone XR (Yellow, 256 GB) (Includes Ear...       Mobile   \n",
            "...                                                  ...          ...   \n",
            "56040  Samsung Galaxy S20 FE 5G (Cloud Navy, 8GB RAM,...  Electronics   \n",
            "56041  Samsung Galaxy S20 FE 5G (Cloud Navy, 8GB RAM,...  Electronics   \n",
            "56042  Samsung Galaxy S20 FE 5G (Cloud Navy, 8GB RAM,...  Electronics   \n",
            "56043  Samsung Galaxy S20 FE 5G (Cloud Navy, 8GB RAM,...  Electronics   \n",
            "56044  Samsung Galaxy S20 FE 5G (Cloud Navy, 8GB RAM,...  Electronics   \n",
            "\n",
            "       product_price  total_amount  \n",
            "0             649.99       1949.97  \n",
            "1             649.99       2599.96  \n",
            "2             649.99       3249.95  \n",
            "3             649.99        649.99  \n",
            "4             649.99        649.99  \n",
            "...              ...           ...  \n",
            "56040         914.62        914.62  \n",
            "56041         914.62        914.62  \n",
            "56042         914.62        914.62  \n",
            "56043         914.62        914.62  \n",
            "56044         914.62        914.62  \n",
            "\n",
            "[55500 rows x 11 columns]\n"
          ]
        }
      ]
    },
    {
      "cell_type": "code",
      "source": [
        "# making new column for total sales using quantity and product_price\n",
        "\n",
        "import pandas as pd\n",
        "\n",
        "df = pd.DataFrame(df)\n",
        "\n",
        "df['total_sales'] = df['quantity'] * df['product_price']\n",
        "\n",
        "print(df)"
      ],
      "metadata": {
        "id": "fdSu3HQg3Kte",
        "outputId": "9f999fa2-8ce2-47ff-b8e9-2ce1e5234014",
        "colab": {
          "base_uri": "https://localhost:8080/"
        }
      },
      "execution_count": null,
      "outputs": [
        {
          "output_type": "stream",
          "name": "stdout",
          "text": [
            "       order_id  order_date order_year_month     customer_name  \\\n",
            "0         51188  2021-07-01       2021-07-01     Audrey Blanco   \n",
            "1         51187  2021-07-01       2021-07-01       Isaac Allen   \n",
            "2         51199  2021-07-02       2021-07-01        Ian Morgan   \n",
            "3         51241  2021-07-04       2021-07-01        Alexa Bell   \n",
            "4         51297  2021-07-08       2021-07-01        Casey Diaz   \n",
            "...         ...         ...              ...               ...   \n",
            "56040     74084  2022-06-29       2022-06-01        Ian Rogers   \n",
            "56041     74062  2022-06-29       2022-06-01   Marcus Anderson   \n",
            "56042     74065  2022-06-29       2022-06-01  Nathaniel Howard   \n",
            "56043     74038  2022-06-29       2022-06-01        Robin Sanz   \n",
            "56044     74110  2022-06-30       2022-06-01   Mallory Jimenez   \n",
            "\n",
            "                    city             state_province  quantity  \\\n",
            "0      North Cherylmouth  NEW HAMPSHIRE                   3.0   \n",
            "1             Traceyland  WEST VIRGINIA                   4.0   \n",
            "2              Dylanberg  SOUTH DAKOTA                    5.0   \n",
            "3         Lake Tracytown  WISCONSIN                       1.0   \n",
            "4            Byrdchester  MISSISSIPPI                     1.0   \n",
            "...                  ...                        ...       ...   \n",
            "56040          Port Mark  ALABAMA                         1.0   \n",
            "56041     West Aprilfurt  NEBRASKA                        1.0   \n",
            "56042      New Lindaview  ILLINOIS                        1.0   \n",
            "56043    West Frankhaven  ARKANSAS                        1.0   \n",
            "56044        Dillonhaven  MARYLAND                        1.0   \n",
            "\n",
            "                                            product_name product_line  \\\n",
            "0      Apple iPhone XR (Yellow, 256 GB) (Includes Ear...       Mobile   \n",
            "1      Apple iPhone XR (Yellow, 256 GB) (Includes Ear...       Mobile   \n",
            "2      Apple iPhone XR (Yellow, 256 GB) (Includes Ear...       Mobile   \n",
            "3      Apple iPhone XR (Yellow, 256 GB) (Includes Ear...       Mobile   \n",
            "4      Apple iPhone XR (Yellow, 256 GB) (Includes Ear...       Mobile   \n",
            "...                                                  ...          ...   \n",
            "56040  Samsung Galaxy S20 FE 5G (Cloud Navy, 8GB RAM,...  Electronics   \n",
            "56041  Samsung Galaxy S20 FE 5G (Cloud Navy, 8GB RAM,...  Electronics   \n",
            "56042  Samsung Galaxy S20 FE 5G (Cloud Navy, 8GB RAM,...  Electronics   \n",
            "56043  Samsung Galaxy S20 FE 5G (Cloud Navy, 8GB RAM,...  Electronics   \n",
            "56044  Samsung Galaxy S20 FE 5G (Cloud Navy, 8GB RAM,...  Electronics   \n",
            "\n",
            "       product_price  total_amount  total_sales  \n",
            "0             649.99       1949.97      1949.97  \n",
            "1             649.99       2599.96      2599.96  \n",
            "2             649.99       3249.95      3249.95  \n",
            "3             649.99        649.99       649.99  \n",
            "4             649.99        649.99       649.99  \n",
            "...              ...           ...          ...  \n",
            "56040         914.62        914.62       914.62  \n",
            "56041         914.62        914.62       914.62  \n",
            "56042         914.62        914.62       914.62  \n",
            "56043         914.62        914.62       914.62  \n",
            "56044         914.62        914.62       914.62  \n",
            "\n",
            "[55500 rows x 12 columns]\n"
          ]
        }
      ]
    },
    {
      "cell_type": "code",
      "source": [
        "import pandas as pd\n",
        "\n",
        "# Assuming df is your DataFrame\n",
        "\n",
        "# Convert the 'order_year_month' column to datetime format\n",
        "df['order_year_month'] = pd.to_datetime(df['order_year_month'])\n",
        "\n",
        "# Extract the month component and create a new column called 'order_month'\n",
        "df['order_month'] = df['order_year_month'].dt.month\n",
        "\n",
        "# Print the DataFrame to verify changes\n",
        "print(df)\n"
      ],
      "metadata": {
        "id": "NBs1bsrf-UTL",
        "outputId": "cc7a3729-4533-4b3a-9816-2af189bc912e",
        "colab": {
          "base_uri": "https://localhost:8080/"
        }
      },
      "execution_count": null,
      "outputs": [
        {
          "output_type": "stream",
          "name": "stdout",
          "text": [
            "       order_id  order_date order_year_month     customer_name  \\\n",
            "0         51188  2021-07-01       2021-07-01     Audrey Blanco   \n",
            "1         51187  2021-07-01       2021-07-01       Isaac Allen   \n",
            "2         51199  2021-07-02       2021-07-01        Ian Morgan   \n",
            "3         51241  2021-07-04       2021-07-01        Alexa Bell   \n",
            "4         51297  2021-07-08       2021-07-01        Casey Diaz   \n",
            "...         ...         ...              ...               ...   \n",
            "56040     74084  2022-06-29       2022-06-01        Ian Rogers   \n",
            "56041     74062  2022-06-29       2022-06-01   Marcus Anderson   \n",
            "56042     74065  2022-06-29       2022-06-01  Nathaniel Howard   \n",
            "56043     74038  2022-06-29       2022-06-01        Robin Sanz   \n",
            "56044     74110  2022-06-30       2022-06-01   Mallory Jimenez   \n",
            "\n",
            "                    city             state_province  quantity  \\\n",
            "0      North Cherylmouth  NEW HAMPSHIRE                   3.0   \n",
            "1             Traceyland  WEST VIRGINIA                   4.0   \n",
            "2              Dylanberg  SOUTH DAKOTA                    5.0   \n",
            "3         Lake Tracytown  WISCONSIN                       1.0   \n",
            "4            Byrdchester  MISSISSIPPI                     1.0   \n",
            "...                  ...                        ...       ...   \n",
            "56040          Port Mark  ALABAMA                         1.0   \n",
            "56041     West Aprilfurt  NEBRASKA                        1.0   \n",
            "56042      New Lindaview  ILLINOIS                        1.0   \n",
            "56043    West Frankhaven  ARKANSAS                        1.0   \n",
            "56044        Dillonhaven  MARYLAND                        1.0   \n",
            "\n",
            "                                            product_name product_line  \\\n",
            "0      Apple iPhone XR (Yellow, 256 GB) (Includes Ear...       Mobile   \n",
            "1      Apple iPhone XR (Yellow, 256 GB) (Includes Ear...       Mobile   \n",
            "2      Apple iPhone XR (Yellow, 256 GB) (Includes Ear...       Mobile   \n",
            "3      Apple iPhone XR (Yellow, 256 GB) (Includes Ear...       Mobile   \n",
            "4      Apple iPhone XR (Yellow, 256 GB) (Includes Ear...       Mobile   \n",
            "...                                                  ...          ...   \n",
            "56040  Samsung Galaxy S20 FE 5G (Cloud Navy, 8GB RAM,...  Electronics   \n",
            "56041  Samsung Galaxy S20 FE 5G (Cloud Navy, 8GB RAM,...  Electronics   \n",
            "56042  Samsung Galaxy S20 FE 5G (Cloud Navy, 8GB RAM,...  Electronics   \n",
            "56043  Samsung Galaxy S20 FE 5G (Cloud Navy, 8GB RAM,...  Electronics   \n",
            "56044  Samsung Galaxy S20 FE 5G (Cloud Navy, 8GB RAM,...  Electronics   \n",
            "\n",
            "       product_price  total_amount  total_sales  order_month  \n",
            "0             649.99       1949.97      1949.97          7.0  \n",
            "1             649.99       2599.96      2599.96          7.0  \n",
            "2             649.99       3249.95      3249.95          7.0  \n",
            "3             649.99        649.99       649.99          7.0  \n",
            "4             649.99        649.99       649.99          7.0  \n",
            "...              ...           ...          ...          ...  \n",
            "56040         914.62        914.62       914.62          6.0  \n",
            "56041         914.62        914.62       914.62          6.0  \n",
            "56042         914.62        914.62       914.62          6.0  \n",
            "56043         914.62        914.62       914.62          6.0  \n",
            "56044         914.62        914.62       914.62          6.0  \n",
            "\n",
            "[55500 rows x 13 columns]\n"
          ]
        }
      ]
    },
    {
      "cell_type": "markdown",
      "metadata": {
        "id": "3GbZQqNbv6Qk"
      },
      "source": [
        "## Create Basic Charts\n",
        "\n",
        "➡️ Assignment Tasks\n",
        "Your target variable is Total Sales Revenue\n",
        "- Create a bar chart\n",
        "- Create a box plot\n",
        "- Create a scatter plot\n",
        "Each visualization should bring some insight into the total sales. You can use any variables for these sample plots."
      ]
    },
    {
      "cell_type": "code",
      "execution_count": null,
      "metadata": {
        "vscode": {
          "languageId": "plaintext"
        },
        "id": "T_dB4Jfqv6Qk",
        "outputId": "20803184-5ecc-4c9b-db1b-740683297ac2",
        "colab": {
          "base_uri": "https://localhost:8080/",
          "height": 464
        }
      },
      "outputs": [
        {
          "output_type": "display_data",
          "data": {
            "text/plain": [
              "<Figure size 1000x600 with 1 Axes>"
            ],
            "image/png": "[encoded data removed]"
          },
          "metadata": {}
        }
      ],
      "source": [
        "#bar chart\n",
        "\n",
        "import matplotlib.pyplot as plt\n",
        "\n",
        "# Assuming df is your DataFrame\n",
        "\n",
        "# Grouping by order month and summing total sales\n",
        "monthly_sales = df.groupby('order_month')['total_amount'].sum()\n",
        "\n",
        "# Plotting bar chart\n",
        "plt.figure(figsize=(10, 6))\n",
        "monthly_sales.plot(kind='bar', color='pink')\n",
        "\n",
        "plt.xlabel('Order Month')\n",
        "plt.ylabel('Total Sales Revenue')\n",
        "plt.title('Total Sales Revenue per Month')\n",
        "\n",
        "plt.xticks(rotation=45, ha='right')\n",
        "plt.xticks(range(0, 12), ['Jan', 'Feb', 'Mar', 'Apr', 'May', 'Jun', 'Jul', 'Aug', 'Sep', 'Oct', 'Nov', 'Dec'])\n",
        "plt.tight_layout()\n",
        "plt.show()\n"
      ]
    },
    {
      "cell_type": "code",
      "execution_count": null,
      "metadata": {
        "vscode": {
          "languageId": "plaintext"
        },
        "id": "wuh4ddB1v6Ql",
        "outputId": "c53fd996-8e8f-4599-dc35-7ee46de5ddd1",
        "colab": {
          "base_uri": "https://localhost:8080/",
          "height": 576
        }
      },
      "outputs": [
        {
          "output_type": "display_data",
          "data": {
            "text/plain": [
              "<Figure size 800x600 with 1 Axes>"
            ],
            "image/png": "[encoded data removed]"
          },
          "metadata": {}
        }
      ],
      "source": [
        "#box plot\n",
        "\n",
        "plt.figure(figsize=(8, 6))\n",
        "plt.boxplot(df['total_amount'])\n",
        "\n",
        "plt.xlabel('Total Sales Revenue')\n",
        "plt.title('Distribution of Total Sales Revenue')\n",
        "\n",
        "plt.tight_layout()\n",
        "plt.show()\n"
      ]
    },
    {
      "cell_type": "code",
      "execution_count": null,
      "metadata": {
        "vscode": {
          "languageId": "plaintext"
        },
        "id": "gkDfrE-Bv6Qm",
        "outputId": "51dda04e-eff4-4e5a-c2fb-5f2c4ba1e6ac",
        "colab": {
          "base_uri": "https://localhost:8080/",
          "height": 576
        }
      },
      "outputs": [
        {
          "output_type": "display_data",
          "data": {
            "text/plain": [
              "<Figure size 800x600 with 1 Axes>"
            ],
            "image/png": "[encoded data removed]"
          },
          "metadata": {}
        }
      ],
      "source": [
        "#scatter plot\n",
        "\n",
        "plt.figure(figsize=(8, 6))\n",
        "plt.scatter(df['product_price'], df['total_amount'], alpha=0.5)\n",
        "\n",
        "plt.xlabel('Product Price')\n",
        "plt.ylabel('Total Sales Revenue')\n",
        "plt.title('Relationship between Product Price and Total Sales Revenue')\n",
        "\n",
        "plt.tight_layout()\n",
        "plt.show()\n"
      ]
    },
    {
      "cell_type": "markdown",
      "metadata": {
        "id": "vq-NndVrv6Qm"
      },
      "source": [
        "## Explore Relationships\n",
        "\n",
        "➡️ Assignment Tasks\n",
        "Your target variable is Total Sales  \n",
        "- How does the month of year affect sales?\n",
        "- What are the best states for sales?\n",
        "- What are the best and worst products for sales?"
      ]
    },
    {
      "cell_type": "code",
      "execution_count": null,
      "metadata": {
        "vscode": {
          "languageId": "plaintext"
        },
        "id": "ZI4o4cMKv6Qn",
        "outputId": "08651037-0ca5-48ea-f977-34558c3e03a0",
        "colab": {
          "base_uri": "https://localhost:8080/",
          "height": 464
        }
      },
      "outputs": [
        {
          "output_type": "display_data",
          "data": {
            "text/plain": [
              "<Figure size 1000x600 with 1 Axes>"
            ],
            "image/png": "[encoded data removed]"
          },
          "metadata": {}
        }
      ],
      "source": [
        "#month of year\n",
        "\n",
        "df['order_month'] = df['order_year_month'].dt.month\n",
        "monthly_sales = df.groupby('order_month')['total_sales'].sum()\n",
        "\n",
        "# Plotting line plot\n",
        "plt.figure(figsize=(10, 6))\n",
        "monthly_sales.plot(kind='line', marker='o', color='blue')\n",
        "\n",
        "plt.xlabel('Month')\n",
        "plt.ylabel('Total Sales Revenue')\n",
        "plt.title('Total Sales Revenue by Month')\n",
        "\n",
        "plt.xticks(range(1, 13), ['Jan', 'Feb', 'Mar', 'Apr', 'May', 'Jun', 'Jul', 'Aug', 'Sep', 'Oct', 'Nov', 'Dec'])\n",
        "plt.tight_layout()\n",
        "plt.show()\n",
        "\n"
      ]
    },
    {
      "cell_type": "code",
      "execution_count": null,
      "metadata": {
        "vscode": {
          "languageId": "plaintext"
        },
        "id": "kUpUjfBRv6Qo",
        "outputId": "c3bbaf48-0f37-41ea-c23e-6ec5b5724d1d",
        "colab": {
          "base_uri": "https://localhost:8080/"
        }
      },
      "outputs": [
        {
          "output_type": "stream",
          "name": "stdout",
          "text": [
            "Best States for Sales:\n",
            "state_province\n",
            "UTAH                         17500697.45\n",
            "IOWA                         17418437.25\n",
            "GEORGIA                      17253602.80\n",
            "CONNECTICUT                  16782062.39\n",
            "MISSOURI                     16553579.53\n",
            "Name: total_sales, dtype: float64\n"
          ]
        }
      ],
      "source": [
        "#sales by state\n",
        "\n",
        "state_sales = df.groupby('state_province')['total_sales'].sum()\n",
        "best_states = state_sales.nlargest(5)  # Get the top 5 states with the highest total sales\n",
        "\n",
        "print(\"Best States for Sales:\")\n",
        "print(best_states)\n"
      ]
    },
    {
      "cell_type": "code",
      "execution_count": null,
      "metadata": {
        "vscode": {
          "languageId": "plaintext"
        },
        "id": "Qu0eSRZjv6Qo",
        "outputId": "7c71aeae-eafa-4ddf-c8b1-cad4996e6d43",
        "colab": {
          "base_uri": "https://localhost:8080/"
        }
      },
      "outputs": [
        {
          "output_type": "stream",
          "name": "stdout",
          "text": [
            "Best Product for Sales: Half-Finger Gloves, M\n",
            "Worst Product for Sales: Racing Socks, L\n"
          ]
        }
      ],
      "source": [
        "#sales by product\n",
        "\n",
        "product_sales = df.groupby('product_name')['total_sales'].sum()\n",
        "best_product = product_sales.idxmax()\n",
        "worst_product = product_sales.idxmin()\n",
        "\n",
        "print(\"Best Product for Sales:\", best_product)\n",
        "print(\"Worst Product for Sales:\", worst_product)\n"
      ]
    }
  ],
  "metadata": {
    "language_info": {
      "name": "python"
    },
    "colab": {
      "provenance": [],
      "include_colab_link": true
    },
    "kernelspec": {
      "name": "python3",
      "display_name": "Python 3"
    }
  },
  "nbformat": 4,
  "nbformat_minor": 0
}