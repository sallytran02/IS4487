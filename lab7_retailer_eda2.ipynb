{
  "cells": [
    {
      "cell_type": "markdown",
      "metadata": {
        "id": "view-in-github",
        "colab_type": "text"
      },
      "source": [
        "<a href=\"https://colab.research.google.com/github/sallytran02/IS4487/blob/main/lab7_retailer_eda2.ipynb\" target=\"_parent\"><img src=\"https://colab.research.google.com/assets/colab-badge.svg\" alt=\"Open In Colab\"/></a>"
      ]
    },
    {
      "cell_type": "markdown",
      "metadata": {
        "id": "4Mkb7E23SgKK"
      },
      "source": [
        "# IS 4487 Lab 7\n",
        "\n",
        "## Outline\n",
        "\n",
        "Begin where you left on in Lab 6 with the *SuperStore Retail Orders* dataset\n",
        "\n",
        "<a href=\"https://colab.research.google.com/github/Stan-Pugsley/is_4487_base/blob/main/Labs/Scripts/lab7_retailer_eda2.ipynb\" target=\"_parent\"><img src=\"https://colab.research.google.com/assets/colab-badge.svg\" alt=\"Open In Colab\"/></a>"
      ]
    },
    {
      "cell_type": "markdown",
      "metadata": {
        "id": "YLbCZkmoSgKO"
      },
      "source": [
        "## Load Libraries\n",
        "\n",
        "➡️ Assignment Tasks\n",
        "- Load any necessary libraries"
      ]
    },
    {
      "cell_type": "code",
      "execution_count": 44,
      "metadata": {
        "vscode": {
          "languageId": "plaintext"
        },
        "id": "mWFHVjPjSgKP"
      },
      "outputs": [],
      "source": [
        "import pandas as pd\n",
        "import matplotlib as mpl\n",
        "import sklearn as sl\n",
        "import numpy as np\n",
        "from scipy import stats\n",
        "import matplotlib.pyplot as plt"
      ]
    },
    {
      "cell_type": "markdown",
      "metadata": {
        "id": "4Za8yYrgSgKP"
      },
      "source": [
        "## Import Data into Dataframe\n",
        "\n",
        "➡️ Assignment Tasks\n",
        "- Import data from the SuperStore retail dataset into a dataframe (in GitHub go to Labs > DataSets)\n",
        "- Describe or profile the dataframe"
      ]
    },
    {
      "cell_type": "code",
      "execution_count": 45,
      "metadata": {
        "vscode": {
          "languageId": "plaintext"
        },
        "id": "rMB-LMXkSgKQ",
        "outputId": "90fe32a6-0c70-41d3-b421-b2399ff87afd",
        "colab": {
          "base_uri": "https://localhost:8080/",
          "height": 297
        }
      },
      "outputs": [
        {
          "output_type": "execute_result",
          "data": {
            "text/plain": [
              "           order_id       quantity  product_price\n",
              "count  56045.000000   56006.000000   56045.000000\n",
              "mean   61668.066340       3.348498    6195.540505\n",
              "std     7508.229651     422.646565   35784.727716\n",
              "min    45079.000000       1.000000       2.290000\n",
              "25%    55644.000000       1.000000       7.950000\n",
              "50%    61869.000000       1.000000     475.600000\n",
              "75%    68097.000000       2.000000     914.620000\n",
              "max    74147.000000  100000.000000  235481.000000"
            ],
            "text/html": [
              "\n",
              "  <div id=\"df-65de9fed-6c55-4191-b378-cd9343087ab0\" class=\"colab-df-container\">\n",
              "    <div>\n",
              "<style scoped>\n",
              "    .dataframe tbody tr th:only-of-type {\n",
              "        vertical-align: middle;\n",
              "    }\n",
              "\n",
              "    .dataframe tbody tr th {\n",
              "        vertical-align: top;\n",
              "    }\n",
              "\n",
              "    .dataframe thead th {\n",
              "        text-align: right;\n",
              "    }\n",
              "</style>\n",
              "<table border=\"1\" class=\"dataframe\">\n",
              "  <thead>\n",
              "    <tr style=\"text-align: right;\">\n",
              "      <th></th>\n",
              "      <th>order_id</th>\n",
              "      <th>quantity</th>\n",
              "      <th>product_price</th>\n",
              "    </tr>\n",
              "  </thead>\n",
              "  <tbody>\n",
              "    <tr>\n",
              "      <th>count</th>\n",
              "      <td>56045.000000</td>\n",
              "      <td>56006.000000</td>\n",
              "      <td>56045.000000</td>\n",
              "    </tr>\n",
              "    <tr>\n",
              "      <th>mean</th>\n",
              "      <td>61668.066340</td>\n",
              "      <td>3.348498</td>\n",
              "      <td>6195.540505</td>\n",
              "    </tr>\n",
              "    <tr>\n",
              "      <th>std</th>\n",
              "      <td>7508.229651</td>\n",
              "      <td>422.646565</td>\n",
              "      <td>35784.727716</td>\n",
              "    </tr>\n",
              "    <tr>\n",
              "      <th>min</th>\n",
              "      <td>45079.000000</td>\n",
              "      <td>1.000000</td>\n",
              "      <td>2.290000</td>\n",
              "    </tr>\n",
              "    <tr>\n",
              "      <th>25%</th>\n",
              "      <td>55644.000000</td>\n",
              "      <td>1.000000</td>\n",
              "      <td>7.950000</td>\n",
              "    </tr>\n",
              "    <tr>\n",
              "      <th>50%</th>\n",
              "      <td>61869.000000</td>\n",
              "      <td>1.000000</td>\n",
              "      <td>475.600000</td>\n",
              "    </tr>\n",
              "    <tr>\n",
              "      <th>75%</th>\n",
              "      <td>68097.000000</td>\n",
              "      <td>2.000000</td>\n",
              "      <td>914.620000</td>\n",
              "    </tr>\n",
              "    <tr>\n",
              "      <th>max</th>\n",
              "      <td>74147.000000</td>\n",
              "      <td>100000.000000</td>\n",
              "      <td>235481.000000</td>\n",
              "    </tr>\n",
              "  </tbody>\n",
              "</table>\n",
              "</div>\n",
              "    <div class=\"colab-df-buttons\">\n",
              "\n",
              "  <div class=\"colab-df-container\">\n",
              "    <button class=\"colab-df-convert\" onclick=\"convertToInteractive('df-65de9fed-6c55-4191-b378-cd9343087ab0')\"\n",
              "            title=\"Convert this dataframe to an interactive table.\"\n",
              "            style=\"display:none;\">\n",
              "\n",
              "  <svg xmlns=\"http://www.w3.org/2000/svg\" height=\"24px\" viewBox=\"0 -960 960 960\">\n",
              "    <path d=\"M120-120v-720h720v720H120Zm60-500h600v-160H180v160Zm220 220h160v-160H400v160Zm0 220h160v-160H400v160ZM180-400h160v-160H180v160Zm440 0h160v-160H620v160ZM180-180h160v-160H180v160Zm440 0h160v-160H620v160Z\"/>\n",
              "  </svg>\n",
              "    </button>\n",
              "\n",
              "  <style>\n",
              "    .colab-df-container {\n",
              "      display:flex;\n",
              "      gap: 12px;\n",
              "    }\n",
              "\n",
              "    .colab-df-convert {\n",
              "      background-color: #E8F0FE;\n",
              "      border: none;\n",
              "      border-radius: 50%;\n",
              "      cursor: pointer;\n",
              "      display: none;\n",
              "      fill: #1967D2;\n",
              "      height: 32px;\n",
              "      padding: 0 0 0 0;\n",
              "      width: 32px;\n",
              "    }\n",
              "\n",
              "    .colab-df-convert:hover {\n",
              "      background-color: #E2EBFA;\n",
              "      box-shadow: 0px 1px 2px rgba(60, 64, 67, 0.3), 0px 1px 3px 1px rgba(60, 64, 67, 0.15);\n",
              "      fill: #174EA6;\n",
              "    }\n",
              "\n",
              "    .colab-df-buttons div {\n",
              "      margin-bottom: 4px;\n",
              "    }\n",
              "\n",
              "    [theme=dark] .colab-df-convert {\n",
              "      background-color: #3B4455;\n",
              "      fill: #D2E3FC;\n",
              "    }\n",
              "\n",
              "    [theme=dark] .colab-df-convert:hover {\n",
              "      background-color: #434B5C;\n",
              "      box-shadow: 0px 1px 3px 1px rgba(0, 0, 0, 0.15);\n",
              "      filter: drop-shadow(0px 1px 2px rgba(0, 0, 0, 0.3));\n",
              "      fill: #FFFFFF;\n",
              "    }\n",
              "  </style>\n",
              "\n",
              "    <script>\n",
              "      const buttonEl =\n",
              "        document.querySelector('#df-65de9fed-6c55-4191-b378-cd9343087ab0 button.colab-df-convert');\n",
              "      buttonEl.style.display =\n",
              "        google.colab.kernel.accessAllowed ? 'block' : 'none';\n",
              "\n",
              "      async function convertToInteractive(key) {\n",
              "        const element = document.querySelector('#df-65de9fed-6c55-4191-b378-cd9343087ab0');\n",
              "        const dataTable =\n",
              "          await google.colab.kernel.invokeFunction('convertToInteractive',\n",
              "                                                    [key], {});\n",
              "        if (!dataTable) return;\n",
              "\n",
              "        const docLinkHtml = 'Like what you see? Visit the ' +\n",
              "          '<a target=\"_blank\" href=https://colab.research.google.com/notebooks/data_table.ipynb>data table notebook</a>'\n",
              "          + ' to learn more about interactive tables.';\n",
              "        element.innerHTML = '';\n",
              "        dataTable['output_type'] = 'display_data';\n",
              "        await google.colab.output.renderOutput(dataTable, element);\n",
              "        const docLink = document.createElement('div');\n",
              "        docLink.innerHTML = docLinkHtml;\n",
              "        element.appendChild(docLink);\n",
              "      }\n",
              "    </script>\n",
              "  </div>\n",
              "\n",
              "\n",
              "<div id=\"df-9a71912e-a9cc-47f8-9fbf-9ed40c0fde0e\">\n",
              "  <button class=\"colab-df-quickchart\" onclick=\"quickchart('df-9a71912e-a9cc-47f8-9fbf-9ed40c0fde0e')\"\n",
              "            title=\"Suggest charts\"\n",
              "            style=\"display:none;\">\n",
              "\n",
              "<svg xmlns=\"http://www.w3.org/2000/svg\" height=\"24px\"viewBox=\"0 0 24 24\"\n",
              "     width=\"24px\">\n",
              "    <g>\n",
              "        <path d=\"M19 3H5c-1.1 0-2 .9-2 2v14c0 1.1.9 2 2 2h14c1.1 0 2-.9 2-2V5c0-1.1-.9-2-2-2zM9 17H7v-7h2v7zm4 0h-2V7h2v10zm4 0h-2v-4h2v4z\"/>\n",
              "    </g>\n",
              "</svg>\n",
              "  </button>\n",
              "\n",
              "<style>\n",
              "  .colab-df-quickchart {\n",
              "      --bg-color: #E8F0FE;\n",
              "      --fill-color: #1967D2;\n",
              "      --hover-bg-color: #E2EBFA;\n",
              "      --hover-fill-color: #174EA6;\n",
              "      --disabled-fill-color: #AAA;\n",
              "      --disabled-bg-color: #DDD;\n",
              "  }\n",
              "\n",
              "  [theme=dark] .colab-df-quickchart {\n",
              "      --bg-color: #3B4455;\n",
              "      --fill-color: #D2E3FC;\n",
              "      --hover-bg-color: #434B5C;\n",
              "      --hover-fill-color: #FFFFFF;\n",
              "      --disabled-bg-color: #3B4455;\n",
              "      --disabled-fill-color: #666;\n",
              "  }\n",
              "\n",
              "  .colab-df-quickchart {\n",
              "    background-color: var(--bg-color);\n",
              "    border: none;\n",
              "    border-radius: 50%;\n",
              "    cursor: pointer;\n",
              "    display: none;\n",
              "    fill: var(--fill-color);\n",
              "    height: 32px;\n",
              "    padding: 0;\n",
              "    width: 32px;\n",
              "  }\n",
              "\n",
              "  .colab-df-quickchart:hover {\n",
              "    background-color: var(--hover-bg-color);\n",
              "    box-shadow: 0 1px 2px rgba(60, 64, 67, 0.3), 0 1px 3px 1px rgba(60, 64, 67, 0.15);\n",
              "    fill: var(--button-hover-fill-color);\n",
              "  }\n",
              "\n",
              "  .colab-df-quickchart-complete:disabled,\n",
              "  .colab-df-quickchart-complete:disabled:hover {\n",
              "    background-color: var(--disabled-bg-color);\n",
              "    fill: var(--disabled-fill-color);\n",
              "    box-shadow: none;\n",
              "  }\n",
              "\n",
              "  .colab-df-spinner {\n",
              "    border: 2px solid var(--fill-color);\n",
              "    border-color: transparent;\n",
              "    border-bottom-color: var(--fill-color);\n",
              "    animation:\n",
              "      spin 1s steps(1) infinite;\n",
              "  }\n",
              "\n",
              "  @keyframes spin {\n",
              "    0% {\n",
              "      border-color: transparent;\n",
              "      border-bottom-color: var(--fill-color);\n",
              "      border-left-color: var(--fill-color);\n",
              "    }\n",
              "    20% {\n",
              "      border-color: transparent;\n",
              "      border-left-color: var(--fill-color);\n",
              "      border-top-color: var(--fill-color);\n",
              "    }\n",
              "    30% {\n",
              "      border-color: transparent;\n",
              "      border-left-color: var(--fill-color);\n",
              "      border-top-color: var(--fill-color);\n",
              "      border-right-color: var(--fill-color);\n",
              "    }\n",
              "    40% {\n",
              "      border-color: transparent;\n",
              "      border-right-color: var(--fill-color);\n",
              "      border-top-color: var(--fill-color);\n",
              "    }\n",
              "    60% {\n",
              "      border-color: transparent;\n",
              "      border-right-color: var(--fill-color);\n",
              "    }\n",
              "    80% {\n",
              "      border-color: transparent;\n",
              "      border-right-color: var(--fill-color);\n",
              "      border-bottom-color: var(--fill-color);\n",
              "    }\n",
              "    90% {\n",
              "      border-color: transparent;\n",
              "      border-bottom-color: var(--fill-color);\n",
              "    }\n",
              "  }\n",
              "</style>\n",
              "\n",
              "  <script>\n",
              "    async function quickchart(key) {\n",
              "      const quickchartButtonEl =\n",
              "        document.querySelector('#' + key + ' button');\n",
              "      quickchartButtonEl.disabled = true;  // To prevent multiple clicks.\n",
              "      quickchartButtonEl.classList.add('colab-df-spinner');\n",
              "      try {\n",
              "        const charts = await google.colab.kernel.invokeFunction(\n",
              "            'suggestCharts', [key], {});\n",
              "      } catch (error) {\n",
              "        console.error('Error during call to suggestCharts:', error);\n",
              "      }\n",
              "      quickchartButtonEl.classList.remove('colab-df-spinner');\n",
              "      quickchartButtonEl.classList.add('colab-df-quickchart-complete');\n",
              "    }\n",
              "    (() => {\n",
              "      let quickchartButtonEl =\n",
              "        document.querySelector('#df-9a71912e-a9cc-47f8-9fbf-9ed40c0fde0e button');\n",
              "      quickchartButtonEl.style.display =\n",
              "        google.colab.kernel.accessAllowed ? 'block' : 'none';\n",
              "    })();\n",
              "  </script>\n",
              "</div>\n",
              "\n",
              "    </div>\n",
              "  </div>\n"
            ],
            "application/vnd.google.colaboratory.intrinsic+json": {
              "type": "dataframe",
              "summary": "{\n  \"name\": \"df\",\n  \"rows\": 8,\n  \"fields\": [\n    {\n      \"column\": \"order_id\",\n      \"properties\": {\n        \"dtype\": \"number\",\n        \"std\": 20608.005969435795,\n        \"min\": 7508.229650559143,\n        \"max\": 74147.0,\n        \"num_unique_values\": 8,\n        \"samples\": [\n          61668.066339548575,\n          61869.0,\n          56045.0\n        ],\n        \"semantic_type\": \"\",\n        \"description\": \"\"\n      }\n    },\n    {\n      \"column\": \"quantity\",\n      \"properties\": {\n        \"dtype\": \"number\",\n        \"std\": 37943.160509739755,\n        \"min\": 1.0,\n        \"max\": 100000.0,\n        \"num_unique_values\": 6,\n        \"samples\": [\n          56006.0,\n          3.3484983751740884,\n          100000.0\n        ],\n        \"semantic_type\": \"\",\n        \"description\": \"\"\n      }\n    },\n    {\n      \"column\": \"product_price\",\n      \"properties\": {\n        \"dtype\": \"number\",\n        \"std\": 80969.15026589678,\n        \"min\": 2.29,\n        \"max\": 235481.0,\n        \"num_unique_values\": 8,\n        \"samples\": [\n          6195.540504594523,\n          475.6,\n          56045.0\n        ],\n        \"semantic_type\": \"\",\n        \"description\": \"\"\n      }\n    }\n  ]\n}"
            }
          },
          "metadata": {},
          "execution_count": 45
        }
      ],
      "source": [
        "df = pd.read_csv (r'/content/superstore_retail_orders-2.csv')\n",
        "\n",
        "df.describe()\n"
      ]
    },
    {
      "cell_type": "code",
      "source": [
        "df.info()"
      ],
      "metadata": {
        "id": "o0OVy8JSU_0O",
        "outputId": "fe0cf4a6-0c57-45c0-d864-6dd3f1c48db4",
        "colab": {
          "base_uri": "https://localhost:8080/"
        }
      },
      "execution_count": 46,
      "outputs": [
        {
          "output_type": "stream",
          "name": "stdout",
          "text": [
            "<class 'pandas.core.frame.DataFrame'>\n",
            "RangeIndex: 56045 entries, 0 to 56044\n",
            "Data columns (total 10 columns):\n",
            " #   Column            Non-Null Count  Dtype  \n",
            "---  ------            --------------  -----  \n",
            " 0   order_id          56045 non-null  int64  \n",
            " 1   order_date        56013 non-null  object \n",
            " 2   order_year_month  56013 non-null  object \n",
            " 3   customer_name     56045 non-null  object \n",
            " 4   city              55571 non-null  object \n",
            " 5   state_province    55571 non-null  object \n",
            " 6   quantity          56006 non-null  float64\n",
            " 7   product_name      56045 non-null  object \n",
            " 8   product_line      56045 non-null  object \n",
            " 9   product_price     56045 non-null  float64\n",
            "dtypes: float64(2), int64(1), object(7)\n",
            "memory usage: 4.3+ MB\n"
          ]
        }
      ]
    },
    {
      "cell_type": "markdown",
      "metadata": {
        "id": "ypl0lCcESgKQ"
      },
      "source": [
        "## Prepare Data\n",
        "\n",
        "➡️ Assignment Tasks\n",
        "- Convert any numbers into the correct datatype if they are not already numeric\n",
        "- Convert any character variables in to factors if they are appropriate for that datatype\n",
        "- Check for outliers.   Remove any outliers that appear to be mistakes\n",
        "- Remove rows with empty (NULL) values\n",
        "- Identify at least one variable with a missing value that can be imputed.   Fill in those empty values.\n",
        "- Add a \"total_amount\" variable based on the quantity and price"
      ]
    },
    {
      "cell_type": "code",
      "execution_count": 47,
      "metadata": {
        "vscode": {
          "languageId": "plaintext"
        },
        "id": "uF8QxTjLSgKR",
        "outputId": "543ff878-c18e-4879-b7e4-7161e69ad03c",
        "colab": {
          "base_uri": "https://localhost:8080/"
        }
      },
      "outputs": [
        {
          "output_type": "stream",
          "name": "stdout",
          "text": [
            "       order_id  order_date order_year_month     customer_name  \\\n",
            "0         51188  2021-07-01          2021-07     Audrey Blanco   \n",
            "1         51187  2021-07-01          2021-07       Isaac Allen   \n",
            "2         51199  2021-07-02          2021-07        Ian Morgan   \n",
            "3         51241  2021-07-04          2021-07        Alexa Bell   \n",
            "4         51297  2021-07-08          2021-07        Casey Diaz   \n",
            "...         ...         ...              ...               ...   \n",
            "56040     74084  2022-06-29          2022-06        Ian Rogers   \n",
            "56041     74062  2022-06-29          2022-06   Marcus Anderson   \n",
            "56042     74065  2022-06-29          2022-06  Nathaniel Howard   \n",
            "56043     74038  2022-06-29          2022-06        Robin Sanz   \n",
            "56044     74110  2022-06-30          2022-06   Mallory Jimenez   \n",
            "\n",
            "                    city             state_province  quantity  \\\n",
            "0      North Cherylmouth  NEW HAMPSHIRE                   3.0   \n",
            "1             Traceyland  WEST VIRGINIA                   4.0   \n",
            "2              Dylanberg  SOUTH DAKOTA                    5.0   \n",
            "3         Lake Tracytown  WISCONSIN                       1.0   \n",
            "4            Byrdchester  MISSISSIPPI                     1.0   \n",
            "...                  ...                        ...       ...   \n",
            "56040          Port Mark  ALABAMA                         1.0   \n",
            "56041     West Aprilfurt  NEBRASKA                        1.0   \n",
            "56042      New Lindaview  ILLINOIS                        1.0   \n",
            "56043    West Frankhaven  ARKANSAS                        1.0   \n",
            "56044        Dillonhaven  MARYLAND                        1.0   \n",
            "\n",
            "                                            product_name product_line  \\\n",
            "0      Apple iPhone XR (Yellow, 256 GB) (Includes Ear...       Mobile   \n",
            "1      Apple iPhone XR (Yellow, 256 GB) (Includes Ear...       Mobile   \n",
            "2      Apple iPhone XR (Yellow, 256 GB) (Includes Ear...       Mobile   \n",
            "3      Apple iPhone XR (Yellow, 256 GB) (Includes Ear...       Mobile   \n",
            "4      Apple iPhone XR (Yellow, 256 GB) (Includes Ear...       Mobile   \n",
            "...                                                  ...          ...   \n",
            "56040  Samsung Galaxy S20 FE 5G (Cloud Navy, 8GB RAM,...  Electronics   \n",
            "56041  Samsung Galaxy S20 FE 5G (Cloud Navy, 8GB RAM,...  Electronics   \n",
            "56042  Samsung Galaxy S20 FE 5G (Cloud Navy, 8GB RAM,...  Electronics   \n",
            "56043  Samsung Galaxy S20 FE 5G (Cloud Navy, 8GB RAM,...  Electronics   \n",
            "56044  Samsung Galaxy S20 FE 5G (Cloud Navy, 8GB RAM,...  Electronics   \n",
            "\n",
            "       product_price  \n",
            "0             649.99  \n",
            "1             649.99  \n",
            "2             649.99  \n",
            "3             649.99  \n",
            "4             649.99  \n",
            "...              ...  \n",
            "56040         914.62  \n",
            "56041         914.62  \n",
            "56042         914.62  \n",
            "56043         914.62  \n",
            "56044         914.62  \n",
            "\n",
            "[56045 rows x 10 columns]\n"
          ]
        }
      ],
      "source": [
        "#data preparation\n",
        "\n",
        "df['city'] = df['city'].astype('category')\n",
        "\n",
        "df['product_line'] = df['product_line'].astype('category')\n",
        "\n",
        "print(df)\n"
      ]
    },
    {
      "cell_type": "code",
      "source": [
        "#check outliers\n",
        "\n",
        "#select numeric columns where you suspect outliers\n",
        "numeric_columns = ['quantity', 'product_price']\n",
        "\n",
        "#calculate z-scores\n",
        "z_scores = np.abs(stats.zscore(df[numeric_columns]))\n",
        "\n",
        "#set threshold\n",
        "threshold = 3\n",
        "\n",
        "#identify outliers\n",
        "outliers = df[(z_scores > threshold).any(axis=1)]\n",
        "\n",
        "print(outliers)\n"
      ],
      "metadata": {
        "id": "wD6wcq6geSxB",
        "outputId": "f77a55c8-45a1-4291-c203-77f7d28f01ff",
        "colab": {
          "base_uri": "https://localhost:8080/"
        }
      },
      "execution_count": 48,
      "outputs": [
        {
          "output_type": "stream",
          "name": "stdout",
          "text": [
            "       order_id  order_date order_year_month     customer_name  \\\n",
            "36547     51189  2021-07-02          2021-07     Tabitha Gomez   \n",
            "36548     51316  2021-07-09          2021-07      Bethany Deng   \n",
            "36549     51390  2021-07-13          2021-07  Deanna Rodriguez   \n",
            "36550     51428  2021-07-16          2021-07       Margaret He   \n",
            "36551     51578  2021-07-25          2021-07       Gilbert Pal   \n",
            "...         ...         ...              ...               ...   \n",
            "37874     74013  2022-06-28          2022-06    Brandi Serrano   \n",
            "37875     74012  2022-06-28          2022-06    Brandon Sharma   \n",
            "37876     73950  1922-06-28          1922-06         Kurt Deng   \n",
            "37877     74044  2022-06-29          2022-06    Andre Gonzalez   \n",
            "37878     74143  2022-06-30          2022-06     Troy Gonzalez   \n",
            "\n",
            "                    city             state_province  quantity  \\\n",
            "36547       Lake Katrina  NEW YORK                        2.0   \n",
            "36548  South Melissafort  HAWAII                          3.0   \n",
            "36549      Cunninghamton  UTAH                            2.0   \n",
            "36550         Port Kevin  OREGON                          2.0   \n",
            "36551           Fordfort  OREGON                          1.0   \n",
            "...                  ...                        ...       ...   \n",
            "37874      New Elizabeth  OREGON                          2.0   \n",
            "37875        Blevinsland  CONNECTICUT                     2.0   \n",
            "37876   West Nicholaston  NORTH DAKOTA                    2.0   \n",
            "37877        Bennetttown  MONTANA                         2.0   \n",
            "37878       Joneschester  WISCONSIN                       2.0   \n",
            "\n",
            "                product_name product_line  product_price  \n",
            "36547  Half-Finger Gloves, L     Clothing       235481.0  \n",
            "36548  Half-Finger Gloves, L     Clothing       235481.0  \n",
            "36549  Half-Finger Gloves, L     Clothing       235481.0  \n",
            "36550  Half-Finger Gloves, L     Clothing       235481.0  \n",
            "36551  Half-Finger Gloves, L     Clothing       235481.0  \n",
            "...                      ...          ...            ...  \n",
            "37874  Half-Finger Gloves, S     Clothing       235481.0  \n",
            "37875  Half-Finger Gloves, S     Clothing       235481.0  \n",
            "37876  Half-Finger Gloves, S     Clothing       235481.0  \n",
            "37877  Half-Finger Gloves, S     Clothing       235481.0  \n",
            "37878  Half-Finger Gloves, S     Clothing       235481.0  \n",
            "\n",
            "[1332 rows x 10 columns]\n"
          ]
        }
      ]
    },
    {
      "cell_type": "code",
      "source": [
        "#cleanup outliers\n",
        "\n",
        "#handle invalid values\n",
        "df['order_year_month'] = pd.to_datetime(df['order_year_month'], errors='coerce')\n",
        "\n",
        "#filter our product prices over 200k\n",
        "df = df[df['product_price'] <= 200000]\n",
        "\n",
        "#filter our quantities over 100k\n",
        "df = df[df['quantity'] <= 100000]\n",
        "\n",
        "#extract year component and create new column called 'order_year'\n",
        "df['order_year'] = df['order_year_month'].dt.year\n",
        "\n",
        "#filter data for the years 2000 to 2022\n",
        "df = df[(df['order_year'] >= 2000) & (df['order_year'] <= 2022)]\n",
        "\n",
        "print(df)"
      ],
      "metadata": {
        "id": "MIvAoqWBdm_Q",
        "outputId": "aa6d078d-6b38-4eef-8d81-651846472d88",
        "colab": {
          "base_uri": "https://localhost:8080/"
        }
      },
      "execution_count": 49,
      "outputs": [
        {
          "output_type": "stream",
          "name": "stdout",
          "text": [
            "       order_id  order_date order_year_month     customer_name  \\\n",
            "0         51188  2021-07-01       2021-07-01     Audrey Blanco   \n",
            "1         51187  2021-07-01       2021-07-01       Isaac Allen   \n",
            "2         51199  2021-07-02       2021-07-01        Ian Morgan   \n",
            "3         51241  2021-07-04       2021-07-01        Alexa Bell   \n",
            "4         51297  2021-07-08       2021-07-01        Casey Diaz   \n",
            "...         ...         ...              ...               ...   \n",
            "56040     74084  2022-06-29       2022-06-01        Ian Rogers   \n",
            "56041     74062  2022-06-29       2022-06-01   Marcus Anderson   \n",
            "56042     74065  2022-06-29       2022-06-01  Nathaniel Howard   \n",
            "56043     74038  2022-06-29       2022-06-01        Robin Sanz   \n",
            "56044     74110  2022-06-30       2022-06-01   Mallory Jimenez   \n",
            "\n",
            "                    city             state_province  quantity  \\\n",
            "0      North Cherylmouth  NEW HAMPSHIRE                   3.0   \n",
            "1             Traceyland  WEST VIRGINIA                   4.0   \n",
            "2              Dylanberg  SOUTH DAKOTA                    5.0   \n",
            "3         Lake Tracytown  WISCONSIN                       1.0   \n",
            "4            Byrdchester  MISSISSIPPI                     1.0   \n",
            "...                  ...                        ...       ...   \n",
            "56040          Port Mark  ALABAMA                         1.0   \n",
            "56041     West Aprilfurt  NEBRASKA                        1.0   \n",
            "56042      New Lindaview  ILLINOIS                        1.0   \n",
            "56043    West Frankhaven  ARKANSAS                        1.0   \n",
            "56044        Dillonhaven  MARYLAND                        1.0   \n",
            "\n",
            "                                            product_name product_line  \\\n",
            "0      Apple iPhone XR (Yellow, 256 GB) (Includes Ear...       Mobile   \n",
            "1      Apple iPhone XR (Yellow, 256 GB) (Includes Ear...       Mobile   \n",
            "2      Apple iPhone XR (Yellow, 256 GB) (Includes Ear...       Mobile   \n",
            "3      Apple iPhone XR (Yellow, 256 GB) (Includes Ear...       Mobile   \n",
            "4      Apple iPhone XR (Yellow, 256 GB) (Includes Ear...       Mobile   \n",
            "...                                                  ...          ...   \n",
            "56040  Samsung Galaxy S20 FE 5G (Cloud Navy, 8GB RAM,...  Electronics   \n",
            "56041  Samsung Galaxy S20 FE 5G (Cloud Navy, 8GB RAM,...  Electronics   \n",
            "56042  Samsung Galaxy S20 FE 5G (Cloud Navy, 8GB RAM,...  Electronics   \n",
            "56043  Samsung Galaxy S20 FE 5G (Cloud Navy, 8GB RAM,...  Electronics   \n",
            "56044  Samsung Galaxy S20 FE 5G (Cloud Navy, 8GB RAM,...  Electronics   \n",
            "\n",
            "       product_price  order_year  \n",
            "0             649.99      2021.0  \n",
            "1             649.99      2021.0  \n",
            "2             649.99      2021.0  \n",
            "3             649.99      2021.0  \n",
            "4             649.99      2021.0  \n",
            "...              ...         ...  \n",
            "56040         914.62      2022.0  \n",
            "56041         914.62      2022.0  \n",
            "56042         914.62      2022.0  \n",
            "56043         914.62      2022.0  \n",
            "56044         914.62      2022.0  \n",
            "\n",
            "[54442 rows x 11 columns]\n"
          ]
        }
      ]
    },
    {
      "cell_type": "code",
      "execution_count": 50,
      "metadata": {
        "vscode": {
          "languageId": "plaintext"
        },
        "id": "OBMkjQgdSgKS",
        "outputId": "770a2cc9-b219-4174-fd83-694ccdf7a556",
        "colab": {
          "base_uri": "https://localhost:8080/"
        }
      },
      "outputs": [
        {
          "output_type": "stream",
          "name": "stdout",
          "text": [
            "[]\n",
            "['city', 'state_province']\n",
            "       order_id  order_date order_year_month     customer_name  \\\n",
            "0         51188  2021-07-01       2021-07-01     Audrey Blanco   \n",
            "1         51187  2021-07-01       2021-07-01       Isaac Allen   \n",
            "2         51199  2021-07-02       2021-07-01        Ian Morgan   \n",
            "3         51241  2021-07-04       2021-07-01        Alexa Bell   \n",
            "4         51297  2021-07-08       2021-07-01        Casey Diaz   \n",
            "...         ...         ...              ...               ...   \n",
            "56040     74084  2022-06-29       2022-06-01        Ian Rogers   \n",
            "56041     74062  2022-06-29       2022-06-01   Marcus Anderson   \n",
            "56042     74065  2022-06-29       2022-06-01  Nathaniel Howard   \n",
            "56043     74038  2022-06-29       2022-06-01        Robin Sanz   \n",
            "56044     74110  2022-06-30       2022-06-01   Mallory Jimenez   \n",
            "\n",
            "                    city             state_province  quantity  \\\n",
            "0      North Cherylmouth  NEW HAMPSHIRE                   3.0   \n",
            "1             Traceyland  WEST VIRGINIA                   4.0   \n",
            "2              Dylanberg  SOUTH DAKOTA                    5.0   \n",
            "3         Lake Tracytown  WISCONSIN                       1.0   \n",
            "4            Byrdchester  MISSISSIPPI                     1.0   \n",
            "...                  ...                        ...       ...   \n",
            "56040          Port Mark  ALABAMA                         1.0   \n",
            "56041     West Aprilfurt  NEBRASKA                        1.0   \n",
            "56042      New Lindaview  ILLINOIS                        1.0   \n",
            "56043    West Frankhaven  ARKANSAS                        1.0   \n",
            "56044        Dillonhaven  MARYLAND                        1.0   \n",
            "\n",
            "                                            product_name product_line  \\\n",
            "0      Apple iPhone XR (Yellow, 256 GB) (Includes Ear...       Mobile   \n",
            "1      Apple iPhone XR (Yellow, 256 GB) (Includes Ear...       Mobile   \n",
            "2      Apple iPhone XR (Yellow, 256 GB) (Includes Ear...       Mobile   \n",
            "3      Apple iPhone XR (Yellow, 256 GB) (Includes Ear...       Mobile   \n",
            "4      Apple iPhone XR (Yellow, 256 GB) (Includes Ear...       Mobile   \n",
            "...                                                  ...          ...   \n",
            "56040  Samsung Galaxy S20 FE 5G (Cloud Navy, 8GB RAM,...  Electronics   \n",
            "56041  Samsung Galaxy S20 FE 5G (Cloud Navy, 8GB RAM,...  Electronics   \n",
            "56042  Samsung Galaxy S20 FE 5G (Cloud Navy, 8GB RAM,...  Electronics   \n",
            "56043  Samsung Galaxy S20 FE 5G (Cloud Navy, 8GB RAM,...  Electronics   \n",
            "56044  Samsung Galaxy S20 FE 5G (Cloud Navy, 8GB RAM,...  Electronics   \n",
            "\n",
            "       product_price  order_year  \n",
            "0             649.99      2021.0  \n",
            "1             649.99      2021.0  \n",
            "2             649.99      2021.0  \n",
            "3             649.99      2021.0  \n",
            "4             649.99      2021.0  \n",
            "...              ...         ...  \n",
            "56040         914.62      2022.0  \n",
            "56041         914.62      2022.0  \n",
            "56042         914.62      2022.0  \n",
            "56043         914.62      2022.0  \n",
            "56044         914.62      2022.0  \n",
            "\n",
            "[54442 rows x 11 columns]\n"
          ]
        }
      ],
      "source": [
        "#impute values\n",
        "\n",
        "#identify numeric and categorical variables with missing values\n",
        "numeric_missing = df.select_dtypes(include='number').columns[df.select_dtypes(include='number').isna().any()].tolist()\n",
        "categorical_missing = df.select_dtypes(exclude='number').columns[df.select_dtypes(exclude='number').isna().any()].tolist()\n",
        "\n",
        "print(numeric_missing)\n",
        "print(categorical_missing)\n",
        "\n",
        "#impute missing values for numeric variables (fill with average value)\n",
        "for var in numeric_missing:\n",
        "    df[var].fillna(df[var].mean(), inplace=True)\n",
        "\n",
        "#impute missing values for categorical variables (fill with most frequent value)\n",
        "for var in categorical_missing:\n",
        "    df[var].fillna(df[var].mode()[0], inplace=True)\n",
        "\n",
        "print(df)\n",
        "\n"
      ]
    },
    {
      "cell_type": "code",
      "source": [
        "#add total amount column\n",
        "\n",
        "df['total_amount'] = df['quantity'] * df['product_price']\n",
        "\n",
        "print(df)"
      ],
      "metadata": {
        "id": "w76WvKwRXoLZ",
        "outputId": "0826b50a-8446-479e-ec94-26b645637ded",
        "colab": {
          "base_uri": "https://localhost:8080/"
        }
      },
      "execution_count": 51,
      "outputs": [
        {
          "output_type": "stream",
          "name": "stdout",
          "text": [
            "       order_id  order_date order_year_month     customer_name  \\\n",
            "0         51188  2021-07-01       2021-07-01     Audrey Blanco   \n",
            "1         51187  2021-07-01       2021-07-01       Isaac Allen   \n",
            "2         51199  2021-07-02       2021-07-01        Ian Morgan   \n",
            "3         51241  2021-07-04       2021-07-01        Alexa Bell   \n",
            "4         51297  2021-07-08       2021-07-01        Casey Diaz   \n",
            "...         ...         ...              ...               ...   \n",
            "56040     74084  2022-06-29       2022-06-01        Ian Rogers   \n",
            "56041     74062  2022-06-29       2022-06-01   Marcus Anderson   \n",
            "56042     74065  2022-06-29       2022-06-01  Nathaniel Howard   \n",
            "56043     74038  2022-06-29       2022-06-01        Robin Sanz   \n",
            "56044     74110  2022-06-30       2022-06-01   Mallory Jimenez   \n",
            "\n",
            "                    city             state_province  quantity  \\\n",
            "0      North Cherylmouth  NEW HAMPSHIRE                   3.0   \n",
            "1             Traceyland  WEST VIRGINIA                   4.0   \n",
            "2              Dylanberg  SOUTH DAKOTA                    5.0   \n",
            "3         Lake Tracytown  WISCONSIN                       1.0   \n",
            "4            Byrdchester  MISSISSIPPI                     1.0   \n",
            "...                  ...                        ...       ...   \n",
            "56040          Port Mark  ALABAMA                         1.0   \n",
            "56041     West Aprilfurt  NEBRASKA                        1.0   \n",
            "56042      New Lindaview  ILLINOIS                        1.0   \n",
            "56043    West Frankhaven  ARKANSAS                        1.0   \n",
            "56044        Dillonhaven  MARYLAND                        1.0   \n",
            "\n",
            "                                            product_name product_line  \\\n",
            "0      Apple iPhone XR (Yellow, 256 GB) (Includes Ear...       Mobile   \n",
            "1      Apple iPhone XR (Yellow, 256 GB) (Includes Ear...       Mobile   \n",
            "2      Apple iPhone XR (Yellow, 256 GB) (Includes Ear...       Mobile   \n",
            "3      Apple iPhone XR (Yellow, 256 GB) (Includes Ear...       Mobile   \n",
            "4      Apple iPhone XR (Yellow, 256 GB) (Includes Ear...       Mobile   \n",
            "...                                                  ...          ...   \n",
            "56040  Samsung Galaxy S20 FE 5G (Cloud Navy, 8GB RAM,...  Electronics   \n",
            "56041  Samsung Galaxy S20 FE 5G (Cloud Navy, 8GB RAM,...  Electronics   \n",
            "56042  Samsung Galaxy S20 FE 5G (Cloud Navy, 8GB RAM,...  Electronics   \n",
            "56043  Samsung Galaxy S20 FE 5G (Cloud Navy, 8GB RAM,...  Electronics   \n",
            "56044  Samsung Galaxy S20 FE 5G (Cloud Navy, 8GB RAM,...  Electronics   \n",
            "\n",
            "       product_price  order_year  total_amount  \n",
            "0             649.99      2021.0       1949.97  \n",
            "1             649.99      2021.0       2599.96  \n",
            "2             649.99      2021.0       3249.95  \n",
            "3             649.99      2021.0        649.99  \n",
            "4             649.99      2021.0        649.99  \n",
            "...              ...         ...           ...  \n",
            "56040         914.62      2022.0        914.62  \n",
            "56041         914.62      2022.0        914.62  \n",
            "56042         914.62      2022.0        914.62  \n",
            "56043         914.62      2022.0        914.62  \n",
            "56044         914.62      2022.0        914.62  \n",
            "\n",
            "[54442 rows x 12 columns]\n"
          ]
        }
      ]
    },
    {
      "cell_type": "code",
      "source": [
        "#remove rows with missing values\n",
        "df = df.dropna()\n",
        "\n",
        "print(df.info())\n"
      ],
      "metadata": {
        "id": "0__wvoIVcS_p",
        "outputId": "f33adc80-4fc2-456d-a5b0-c45414957707",
        "colab": {
          "base_uri": "https://localhost:8080/"
        }
      },
      "execution_count": 52,
      "outputs": [
        {
          "output_type": "stream",
          "name": "stdout",
          "text": [
            "<class 'pandas.core.frame.DataFrame'>\n",
            "Int64Index: 54442 entries, 0 to 56044\n",
            "Data columns (total 12 columns):\n",
            " #   Column            Non-Null Count  Dtype         \n",
            "---  ------            --------------  -----         \n",
            " 0   order_id          54442 non-null  int64         \n",
            " 1   order_date        54442 non-null  object        \n",
            " 2   order_year_month  54442 non-null  datetime64[ns]\n",
            " 3   customer_name     54442 non-null  object        \n",
            " 4   city              54442 non-null  category      \n",
            " 5   state_province    54442 non-null  object        \n",
            " 6   quantity          54442 non-null  float64       \n",
            " 7   product_name      54442 non-null  object        \n",
            " 8   product_line      54442 non-null  category      \n",
            " 9   product_price     54442 non-null  float64       \n",
            " 10  order_year        54442 non-null  float64       \n",
            " 11  total_amount      54442 non-null  float64       \n",
            "dtypes: category(2), datetime64[ns](1), float64(4), int64(1), object(4)\n",
            "memory usage: 5.1+ MB\n",
            "None\n"
          ]
        }
      ]
    },
    {
      "cell_type": "markdown",
      "metadata": {
        "id": "b6M_OaBPSgKT"
      },
      "source": [
        "## Prepare Data - Continued\n",
        "\n",
        "➡️ Assignment Tasks\n",
        "- Create a variable called \"complete_customer_info\".   Use \"1\" for True and \"2\" for False.  All customer fields must be valid and not empty before this variable is True.\n",
        "- Create a bar chart showing the count of customers with complete informaiton versus incomplete information"
      ]
    },
    {
      "cell_type": "code",
      "execution_count": 53,
      "metadata": {
        "vscode": {
          "languageId": "plaintext"
        },
        "id": "ztuVLiR7SgKT"
      },
      "outputs": [],
      "source": [
        "#create variable\n",
        "\n",
        "#create the complete_customer_info variable\n",
        "df['complete_customer_info'] = (df['customer_name'].notnull() &\n",
        "                                df['city'].notnull() &\n",
        "                                df['state_province'].notnull()).astype(int)\n",
        "\n",
        "#map the values to \"1\" for True and \"2\" for False\n",
        "df['complete_customer_info'] = df['complete_customer_info'].map({1: 'Complete', 0: 'Incomplete'})\n",
        "\n"
      ]
    },
    {
      "cell_type": "code",
      "execution_count": 54,
      "metadata": {
        "vscode": {
          "languageId": "plaintext"
        },
        "id": "xL8VUZkWSgKT",
        "outputId": "23774c44-54d7-4d9c-c6a4-9482b7b5e7ce",
        "colab": {
          "base_uri": "https://localhost:8080/",
          "height": 499
        }
      },
      "outputs": [
        {
          "output_type": "display_data",
          "data": {
            "text/plain": [
              "<Figure size 800x600 with 1 Axes>"
            ],
            "image/png": "[encoded data removed]"
          },
          "metadata": {}
        }
      ],
      "source": [
        "#create chart\n",
        "\n",
        "#create a bar chart\n",
        "plt.figure(figsize=(8, 6))\n",
        "df['complete_customer_info'].value_counts().plot(kind='bar', color=['lightblue', 'pink'])\n",
        "plt.title('Count of Customers with Complete vs. Incomplete Information')\n",
        "plt.xlabel('Customer Information Completeness')\n",
        "plt.ylabel('Count')\n",
        "plt.xticks(rotation=0)\n",
        "plt.show()"
      ]
    },
    {
      "cell_type": "markdown",
      "metadata": {
        "id": "eEPHShLXSgKU"
      },
      "source": [
        "## Prepare Data - Continued\n",
        "\n",
        "➡️ Assignment Tasks\n",
        "- Create seasonal buckets for Winter, Sprint, Summer, Fall\n",
        "- Create a chart to show revenue by season\n",
        "- Create a chart to show revenue by year"
      ]
    },
    {
      "cell_type": "code",
      "execution_count": 55,
      "metadata": {
        "vscode": {
          "languageId": "plaintext"
        },
        "id": "sYewvkG3SgKU"
      },
      "outputs": [],
      "source": [
        "#seasonality\n",
        "\n",
        "#create seasonal buckets\n",
        "seasons = {\n",
        "    1: 'Winter', 2: 'Winter', 3: 'Spring',\n",
        "    4: 'Spring', 5: 'Spring', 6: 'Summer',\n",
        "    7: 'Summer', 8: 'Summer', 9: 'Fall',\n",
        "    10: 'Fall', 11: 'Fall', 12: 'Winter'\n",
        "}\n",
        "\n",
        "df['order_month'] = pd.to_datetime(df['order_year_month']).dt.month\n",
        "df['season'] = df['order_month'].map(seasons)"
      ]
    },
    {
      "cell_type": "code",
      "execution_count": 56,
      "metadata": {
        "vscode": {
          "languageId": "plaintext"
        },
        "id": "uPUyx3vkSgKV",
        "outputId": "ceb58b2f-04e4-435a-b4c3-70f62a58039b",
        "colab": {
          "base_uri": "https://localhost:8080/",
          "height": 549
        }
      },
      "outputs": [
        {
          "output_type": "display_data",
          "data": {
            "text/plain": [
              "<Figure size 800x600 with 1 Axes>"
            ],
            "image/png": "[encoded data removed]"
          },
          "metadata": {}
        }
      ],
      "source": [
        "#revenue by season\n",
        "revenue_by_season = df.groupby('season')['total_amount'].sum().reset_index()\n",
        "\n",
        "plt.figure(figsize=(8, 6))\n",
        "plt.bar(revenue_by_season['season'], revenue_by_season['total_amount'], color='skyblue')\n",
        "plt.title('Revenue by Season')\n",
        "plt.xlabel('Season')\n",
        "plt.ylabel('Revenue')\n",
        "plt.xticks(rotation=45)\n",
        "plt.show()"
      ]
    },
    {
      "cell_type": "code",
      "source": [
        "print(df['order_year'].unique())"
      ],
      "metadata": {
        "colab": {
          "base_uri": "https://localhost:8080/"
        },
        "id": "-M4YWGb6kMoQ",
        "outputId": "460761b4-ce4c-4be4-ce6c-fd654ebc6426"
      },
      "execution_count": 57,
      "outputs": [
        {
          "output_type": "stream",
          "name": "stdout",
          "text": [
            "[2021. 2022. 2020.]\n"
          ]
        }
      ]
    },
    {
      "cell_type": "code",
      "source": [
        "#revenue by year\n",
        "\n",
        "df['order_year'] = pd.to_datetime(df['order_year_month']).dt.year\n",
        "revenue_by_year = df.groupby('order_year')['total_amount'].sum().reset_index()\n",
        "\n",
        "plt.figure(figsize=(8, 6))\n",
        "plt.plot(revenue_by_year['order_year'], revenue_by_year['total_amount'], marker='o', color='green')\n",
        "plt.title('Revenue by Year')\n",
        "plt.xlabel('Year')\n",
        "plt.ylabel('Revenue')\n",
        "plt.xticks(revenue_by_year['order_year'])\n",
        "plt.grid(True)\n",
        "plt.show()"
      ],
      "metadata": {
        "id": "Qoxcp16ihaVM",
        "outputId": "ab5a4c43-5cfa-435e-c16f-ff8d59df3634",
        "colab": {
          "base_uri": "https://localhost:8080/",
          "height": 514
        }
      },
      "execution_count": 58,
      "outputs": [
        {
          "output_type": "display_data",
          "data": {
            "text/plain": [
              "<Figure size 800x600 with 1 Axes>"
            ],
            "image/png": "[encoded data removed]"
          },
          "metadata": {}
        }
      ]
    },
    {
      "cell_type": "markdown",
      "metadata": {
        "id": "bIXONxdFSgKV"
      },
      "source": [
        "## Prepare Data - Continued\n",
        "\n",
        "➡️ Assignment Tasks\n",
        "- Create a variable that will group product lines into \"Outdoor\" versus \"Indoor\" products.\n",
        "- Create a plot to show the correlation between outdoor/indoor versus season  "
      ]
    },
    {
      "cell_type": "code",
      "source": [
        "unique_product_lines = df['product_line'].unique()\n",
        "print(unique_product_lines)\n"
      ],
      "metadata": {
        "id": "vL_rRXVSiJcX",
        "outputId": "465212bc-ca5d-4fb8-c0bc-c45d436caf4b",
        "colab": {
          "base_uri": "https://localhost:8080/"
        }
      },
      "execution_count": 59,
      "outputs": [
        {
          "output_type": "stream",
          "name": "stdout",
          "text": [
            "['Mobile', 'Bikes', 'Cameras', 'Electronics', 'Accessories', 'Clothing', 'Projector', 'Laptop', 'OfficeProducts']\n",
            "Categories (9, object): ['Accessories', 'Bikes', 'Cameras', 'Clothing', ..., 'Laptop', 'Mobile',\n",
            "                         'OfficeProducts', 'Projector']\n"
          ]
        }
      ]
    },
    {
      "cell_type": "code",
      "source": [
        "#indoor outdoor variable (with cameras considered as outdoor)\n",
        "\n",
        "#define criteria to categorize product lines as \"Outdoor\" or \"Indoor\"\n",
        "outdoor_product_lines = ['Bikes', 'Cameras']\n",
        "indoor_product_lines = ['Mobile', 'Electronics', 'Accessories', 'Clothing', 'Projector', 'Laptop', 'OfficeProducts']\n",
        "\n",
        "# Create a new column to store the categorization\n",
        "df['product_category'] = df['product_line'].apply(lambda x: 'Outdoor' if x in outdoor_product_lines else 'Indoor')\n",
        "\n",
        "# Group the data by season and product category\n",
        "correlation_data = df.groupby(['season', 'product_category'])['total_amount'].mean().reset_index()\n",
        "\n",
        "# Pivot the table to prepare for plotting\n",
        "pivot_table = correlation_data.pivot(index='season', columns='product_category', values='total_amount')\n",
        "\n",
        "# Plot the correlation\n",
        "plt.figure(figsize=(10, 6))\n",
        "pivot_table.plot(kind='bar', color=['skyblue', 'lightgreen'])\n",
        "plt.title('Correlation between Outdoor/Indoor Products and Season')\n",
        "plt.xlabel('Season')\n",
        "plt.ylabel('Average Total Amount')\n",
        "plt.xticks(rotation=45)\n",
        "plt.legend(title='Product Category')\n",
        "plt.gca().yaxis.set_major_formatter('{:,.0f}'.format)\n",
        "plt.show()\n"
      ],
      "metadata": {
        "id": "HJyuUGe2i8h4",
        "outputId": "17909b18-9d3e-4996-f53c-cc30184d2d32",
        "colab": {
          "base_uri": "https://localhost:8080/",
          "height": 526
        }
      },
      "execution_count": 60,
      "outputs": [
        {
          "output_type": "display_data",
          "data": {
            "text/plain": [
              "<Figure size 1000x600 with 0 Axes>"
            ]
          },
          "metadata": {}
        },
        {
          "output_type": "display_data",
          "data": {
            "text/plain": [
              "<Figure size 640x480 with 1 Axes>"
            ],
            "image/png": "[encoded data removed]"
          },
          "metadata": {}
        }
      ]
    },
    {
      "cell_type": "code",
      "source": [
        "#indoor outdoor variable (with cameras considered as indoor)\n",
        "\n",
        "#define criteria to categorize product lines as \"Outdoor\" or \"Indoor\"\n",
        "outdoor_product_lines = ['Bikes']\n",
        "indoor_product_lines = ['Mobile', 'Cameras', 'Electronics', 'Accessories', 'Clothing', 'Projector', 'Laptop', 'OfficeProducts']\n",
        "\n",
        "#create a new column to store the categorization\n",
        "df['product_category'] = df['product_line'].apply(lambda x: 'Outdoor' if x in outdoor_product_lines else 'Indoor')\n",
        "\n",
        "#group the data by season and product category\n",
        "correlation_data = df.groupby(['season', 'product_category'])['total_amount'].mean().reset_index()\n",
        "\n",
        "#pivot the table to prepare for plotting\n",
        "pivot_table = correlation_data.pivot(index='season', columns='product_category', values='total_amount')\n",
        "\n",
        "# Plot the correlation\n",
        "plt.figure(figsize=(10, 6))\n",
        "pivot_table.plot(kind='bar', color=['skyblue', 'lightgreen'])\n",
        "plt.title('Correlation between Outdoor/Indoor Products and Season')\n",
        "plt.xlabel('Season')\n",
        "plt.ylabel('Average Total Amount')\n",
        "plt.xticks(rotation=45)\n",
        "plt.legend(title='Product Category')\n",
        "plt.gca().yaxis.set_major_formatter('{:,.0f}'.format)\n",
        "plt.show()"
      ],
      "metadata": {
        "id": "Nif50GRSj1Rw",
        "outputId": "ec6b61d0-3530-4a1d-f16b-9c17c8ab96b2",
        "colab": {
          "base_uri": "https://localhost:8080/",
          "height": 526
        }
      },
      "execution_count": 61,
      "outputs": [
        {
          "output_type": "display_data",
          "data": {
            "text/plain": [
              "<Figure size 1000x600 with 0 Axes>"
            ]
          },
          "metadata": {}
        },
        {
          "output_type": "display_data",
          "data": {
            "text/plain": [
              "<Figure size 640x480 with 1 Axes>"
            ],
            "image/png": "[encoded data removed]"
          },
          "metadata": {}
        }
      ]
    }
  ],
  "metadata": {
    "language_info": {
      "name": "python"
    },
    "colab": {
      "provenance": [],
      "include_colab_link": true
    },
    "kernelspec": {
      "name": "python3",
      "display_name": "Python 3"
    }
  },
  "nbformat": 4,
  "nbformat_minor": 0
}